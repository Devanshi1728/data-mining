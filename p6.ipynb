{
 "cells": [
  {
   "cell_type": "code",
   "execution_count": 56,
   "metadata": {},
   "outputs": [],
   "source": [
    "import pandas as pd\n",
    "import math\n",
    "import random\n",
    "from sklearn import preprocessing\n",
    "from sklearn import datasets\n",
    "from sklearn.naive_bayes import GaussianNB"
   ]
  },
  {
   "cell_type": "code",
   "execution_count": 57,
   "metadata": {},
   "outputs": [],
   "source": [
    "df = pd.read_excel('data.xls')"
   ]
  },
  {
   "cell_type": "code",
   "execution_count": 58,
   "metadata": {},
   "outputs": [
    {
     "name": "stdout",
     "output_type": "stream",
     "text": [
      "    Sr No   Outlook Temperature Humidity   Windy PlayTennis\n",
      "0     NaN       NaN         NaN      NaN     NaN        NaN\n",
      "1     1.0     Sunny         Hot     High    Weak         No\n",
      "2     2.0     Sunny         Hot     High  Strong         No\n",
      "3     3.0  Overcast         Hot     High    Weak        yes\n",
      "4     4.0     Rainy        Mild     High    Weak        yes\n",
      "5     5.0     Rainy        Cool   Normal    Weak        yes\n",
      "6     6.0     Rainy        Cool   Normal  Strong         No\n",
      "7     7.0  Overcast        Cool   Normal  Strong        yes\n",
      "8     8.0     Sunny        Mild     High    Weak         No\n",
      "9     9.0     Rainy        Cool   Normal    Weak        yes\n",
      "10   10.0     Rainy        Mild   Normal    Weak        yes\n",
      "11   11.0     Sunny        Mild   Normal  Strong        yes\n",
      "12   12.0  Overcast        Mild     High  Strong        yes\n",
      "13   13.0  Overcast         Hot   Normal    Weak        yes\n",
      "14   14.0     Rainy        Mild     High  Strong         No\n"
     ]
    }
   ],
   "source": [
    "print(df)"
   ]
  },
  {
   "cell_type": "code",
   "execution_count": 68,
   "metadata": {},
   "outputs": [
    {
     "name": "stdout",
     "output_type": "stream",
     "text": [
      "0      NaN\n",
      "1      Hot\n",
      "2      Hot\n",
      "3      Hot\n",
      "4     Mild\n",
      "5     Cool\n",
      "6     Cool\n",
      "7     Cool\n",
      "8     Mild\n",
      "9     Cool\n",
      "10    Mild\n",
      "11    Mild\n",
      "12    Mild\n",
      "13     Hot\n",
      "14    Mild\n",
      "Name: Temperature, dtype: object\n",
      "0          NaN\n",
      "1        Sunny\n",
      "2        Sunny\n",
      "3     Overcast\n",
      "4        Rainy\n",
      "5        Rainy\n",
      "6        Rainy\n",
      "7     Overcast\n",
      "8        Sunny\n",
      "9        Rainy\n",
      "10       Rainy\n",
      "11       Sunny\n",
      "12    Overcast\n",
      "13    Overcast\n",
      "14       Rainy\n",
      "Name: Outlook, dtype: object\n",
      "0        NaN\n",
      "1       High\n",
      "2       High\n",
      "3       High\n",
      "4       High\n",
      "5     Normal\n",
      "6     Normal\n",
      "7     Normal\n",
      "8       High\n",
      "9     Normal\n",
      "10    Normal\n",
      "11    Normal\n",
      "12      High\n",
      "13    Normal\n",
      "14      High\n",
      "Name: Humidity, dtype: object\n",
      "0        NaN\n",
      "1       Weak\n",
      "2     Strong\n",
      "3       Weak\n",
      "4       Weak\n",
      "5       Weak\n",
      "6     Strong\n",
      "7     Strong\n",
      "8       Weak\n",
      "9       Weak\n",
      "10      Weak\n",
      "11    Strong\n",
      "12    Strong\n",
      "13      Weak\n",
      "14    Strong\n",
      "Name: Windy, dtype: object\n",
      "0     NaN\n",
      "1      No\n",
      "2      No\n",
      "3     yes\n",
      "4     yes\n",
      "5     yes\n",
      "6      No\n",
      "7     yes\n",
      "8      No\n",
      "9     yes\n",
      "10    yes\n",
      "11    yes\n",
      "12    yes\n",
      "13    yes\n",
      "14     No\n",
      "Name: PlayTennis, dtype: object\n"
     ]
    }
   ],
   "source": [
    "temp=df.Temperature;\n",
    "od=df.Outlook;\n",
    "hd=df.Humidity;\n",
    "wd=df.Windy;\n",
    "cl=df.PlayTennis;\n",
    "print(temp);\n",
    "print(od);\n",
    "print(hd);\n",
    "print(wd);\n",
    "print(cl);\n"
   ]
  },
  {
   "cell_type": "code",
   "execution_count": 69,
   "metadata": {},
   "outputs": [
    {
     "name": "stdout",
     "output_type": "stream",
     "text": [
      "Temprature  [3 1 1 1 2 0 0 0 2 0 2 2 2 1 2]\n",
      "Outlook :  [3 2 2 0 1 1 1 0 2 1 1 2 0 0 1]\n",
      "Windy :  [2 1 0 1 1 1 0 0 1 1 1 0 0 1 0]\n",
      "Humidity :  [2 0 0 0 0 1 1 1 0 1 1 1 0 1 0]\n"
     ]
    }
   ],
   "source": [
    "le=preprocessing.LabelEncoder();\n",
    "tempr=le.fit_transform(temp.astype(str));\n",
    "olook=le.fit_transform(od.astype(str));\n",
    "wind=le.fit_transform(wd.astype(str));\n",
    "humd=le.fit_transform(hd.astype(str));\n",
    "print(\"Temprature \",tempr);\n",
    "print(\"Outlook : \",olook);\n",
    "print(\"Windy : \",wind);\n",
    "print(\"Humidity : \",humd);"
   ]
  },
  {
   "cell_type": "code",
   "execution_count": 88,
   "metadata": {},
   "outputs": [
    {
     "name": "stdout",
     "output_type": "stream",
     "text": [
      "[{(1, 0, 1, 1), (1, 0, 1, 0), (0, 1, 1, 1), (0, 0, 0, 1), (2, 1, 1, 1), (1, 2, 0, 0), (2, 1, 0, 0), (1, 2, 1, 0), (2, 1, 1, 0), (2, 2, 0, 1), (0, 1, 0, 1), (2, 0, 0, 0), (3, 3, 2, 2), (2, 2, 1, 0)}]\n"
     ]
    }
   ],
   "source": [
    "r=zip(tempr,olook,wind,humd);\n",
    "r=[set(r)];\n",
    "print(r);"
   ]
  },
  {
   "cell_type": "code",
   "execution_count": 89,
   "metadata": {},
   "outputs": [
    {
     "ename": "ValueError",
     "evalue": "Expected 2D array, got 1D array instead:\narray=[{(1, 0, 1, 1), (1, 0, 1, 0), (0, 1, 1, 1), (0, 0, 0, 1), (2, 1, 1, 1), (1, 2, 0, 0), (2, 1, 0, 0), (1, 2, 1, 0), (2, 1, 1, 0), (2, 2, 0, 1), (0, 1, 0, 1), (2, 0, 0, 0), (3, 3, 2, 2), (2, 2, 1, 0)}].\nReshape your data either using array.reshape(-1, 1) if your data has a single feature or array.reshape(1, -1) if it contains a single sample.",
     "output_type": "error",
     "traceback": [
      "\u001b[1;31m---------------------------------------------------------------------------\u001b[0m",
      "\u001b[1;31mValueError\u001b[0m                                Traceback (most recent call last)",
      "\u001b[1;32m<ipython-input-89-fa3e2398faa6>\u001b[0m in \u001b[0;36m<module>\u001b[1;34m\u001b[0m\n\u001b[0;32m      1\u001b[0m \u001b[0mmodel\u001b[0m\u001b[1;33m=\u001b[0m\u001b[0mGaussianNB\u001b[0m\u001b[1;33m(\u001b[0m\u001b[1;33m)\u001b[0m\u001b[1;33m;\u001b[0m\u001b[1;33m\u001b[0m\u001b[1;33m\u001b[0m\u001b[0m\n\u001b[1;32m----> 2\u001b[1;33m \u001b[0mmodel\u001b[0m\u001b[1;33m.\u001b[0m\u001b[0mfit\u001b[0m\u001b[1;33m(\u001b[0m\u001b[0mr\u001b[0m\u001b[1;33m,\u001b[0m\u001b[0mcl\u001b[0m\u001b[1;33m)\u001b[0m\u001b[1;33m;\u001b[0m\u001b[1;33m\u001b[0m\u001b[1;33m\u001b[0m\u001b[0m\n\u001b[0m\u001b[0;32m      3\u001b[0m \u001b[0mpredicted\u001b[0m\u001b[1;33m=\u001b[0m\u001b[0mmodel\u001b[0m\u001b[1;33m.\u001b[0m\u001b[0mpredict\u001b[0m\u001b[1;33m(\u001b[0m\u001b[1;33m[\u001b[0m\u001b[1;36m0\u001b[0m\u001b[1;33m,\u001b[0m\u001b[1;36m2\u001b[0m\u001b[1;33m]\u001b[0m\u001b[1;33m)\u001b[0m\u001b[1;33m;\u001b[0m\u001b[1;33m\u001b[0m\u001b[1;33m\u001b[0m\u001b[0m\n\u001b[0;32m      4\u001b[0m \u001b[0mprint\u001b[0m\u001b[1;33m(\u001b[0m\u001b[0mpredicted\u001b[0m\u001b[1;33m)\u001b[0m\u001b[1;33m;\u001b[0m\u001b[1;33m\u001b[0m\u001b[1;33m\u001b[0m\u001b[0m\n",
      "\u001b[1;32mC:\\Softwares\\lib\\site-packages\\sklearn\\naive_bayes.py\u001b[0m in \u001b[0;36mfit\u001b[1;34m(self, X, y, sample_weight)\u001b[0m\n\u001b[0;32m    188\u001b[0m         \u001b[0mself\u001b[0m \u001b[1;33m:\u001b[0m \u001b[0mobject\u001b[0m\u001b[1;33m\u001b[0m\u001b[1;33m\u001b[0m\u001b[0m\n\u001b[0;32m    189\u001b[0m         \"\"\"\n\u001b[1;32m--> 190\u001b[1;33m         \u001b[0mX\u001b[0m\u001b[1;33m,\u001b[0m \u001b[0my\u001b[0m \u001b[1;33m=\u001b[0m \u001b[0mcheck_X_y\u001b[0m\u001b[1;33m(\u001b[0m\u001b[0mX\u001b[0m\u001b[1;33m,\u001b[0m \u001b[0my\u001b[0m\u001b[1;33m)\u001b[0m\u001b[1;33m\u001b[0m\u001b[1;33m\u001b[0m\u001b[0m\n\u001b[0m\u001b[0;32m    191\u001b[0m         return self._partial_fit(X, y, np.unique(y), _refit=True,\n\u001b[0;32m    192\u001b[0m                                  sample_weight=sample_weight)\n",
      "\u001b[1;32mC:\\Softwares\\lib\\site-packages\\sklearn\\utils\\validation.py\u001b[0m in \u001b[0;36mcheck_X_y\u001b[1;34m(X, y, accept_sparse, accept_large_sparse, dtype, order, copy, force_all_finite, ensure_2d, allow_nd, multi_output, ensure_min_samples, ensure_min_features, y_numeric, warn_on_dtype, estimator)\u001b[0m\n\u001b[0;32m    754\u001b[0m                     \u001b[0mensure_min_features\u001b[0m\u001b[1;33m=\u001b[0m\u001b[0mensure_min_features\u001b[0m\u001b[1;33m,\u001b[0m\u001b[1;33m\u001b[0m\u001b[1;33m\u001b[0m\u001b[0m\n\u001b[0;32m    755\u001b[0m                     \u001b[0mwarn_on_dtype\u001b[0m\u001b[1;33m=\u001b[0m\u001b[0mwarn_on_dtype\u001b[0m\u001b[1;33m,\u001b[0m\u001b[1;33m\u001b[0m\u001b[1;33m\u001b[0m\u001b[0m\n\u001b[1;32m--> 756\u001b[1;33m                     estimator=estimator)\n\u001b[0m\u001b[0;32m    757\u001b[0m     \u001b[1;32mif\u001b[0m \u001b[0mmulti_output\u001b[0m\u001b[1;33m:\u001b[0m\u001b[1;33m\u001b[0m\u001b[1;33m\u001b[0m\u001b[0m\n\u001b[0;32m    758\u001b[0m         y = check_array(y, 'csr', force_all_finite=True, ensure_2d=False,\n",
      "\u001b[1;32mC:\\Softwares\\lib\\site-packages\\sklearn\\utils\\validation.py\u001b[0m in \u001b[0;36mcheck_array\u001b[1;34m(array, accept_sparse, accept_large_sparse, dtype, order, copy, force_all_finite, ensure_2d, allow_nd, ensure_min_samples, ensure_min_features, warn_on_dtype, estimator)\u001b[0m\n\u001b[0;32m    550\u001b[0m                     \u001b[1;34m\"Reshape your data either using array.reshape(-1, 1) if \"\u001b[0m\u001b[1;33m\u001b[0m\u001b[1;33m\u001b[0m\u001b[0m\n\u001b[0;32m    551\u001b[0m                     \u001b[1;34m\"your data has a single feature or array.reshape(1, -1) \"\u001b[0m\u001b[1;33m\u001b[0m\u001b[1;33m\u001b[0m\u001b[0m\n\u001b[1;32m--> 552\u001b[1;33m                     \"if it contains a single sample.\".format(array))\n\u001b[0m\u001b[0;32m    553\u001b[0m \u001b[1;33m\u001b[0m\u001b[0m\n\u001b[0;32m    554\u001b[0m         \u001b[1;31m# in the future np.flexible dtypes will be handled like object dtypes\u001b[0m\u001b[1;33m\u001b[0m\u001b[1;33m\u001b[0m\u001b[1;33m\u001b[0m\u001b[0m\n",
      "\u001b[1;31mValueError\u001b[0m: Expected 2D array, got 1D array instead:\narray=[{(1, 0, 1, 1), (1, 0, 1, 0), (0, 1, 1, 1), (0, 0, 0, 1), (2, 1, 1, 1), (1, 2, 0, 0), (2, 1, 0, 0), (1, 2, 1, 0), (2, 1, 1, 0), (2, 2, 0, 1), (0, 1, 0, 1), (2, 0, 0, 0), (3, 3, 2, 2), (2, 2, 1, 0)}].\nReshape your data either using array.reshape(-1, 1) if your data has a single feature or array.reshape(1, -1) if it contains a single sample."
     ]
    }
   ],
   "source": [
    "model=GaussianNB();\n",
    "model.fit(r,cl);\n",
    "predicted=model.predict([0,2]);\n",
    "print(predicted);"
   ]
  },
  {
   "cell_type": "code",
   "execution_count": null,
   "metadata": {},
   "outputs": [],
   "source": []
  },
  {
   "cell_type": "code",
   "execution_count": null,
   "metadata": {},
   "outputs": [],
   "source": []
  }
 ],
 "metadata": {
  "kernelspec": {
   "display_name": "Python 3",
   "language": "python",
   "name": "python3"
  },
  "language_info": {
   "codemirror_mode": {
    "name": "ipython",
    "version": 3
   },
   "file_extension": ".py",
   "mimetype": "text/x-python",
   "name": "python",
   "nbconvert_exporter": "python",
   "pygments_lexer": "ipython3",
   "version": "3.7.1"
  }
 },
 "nbformat": 4,
 "nbformat_minor": 2
}
